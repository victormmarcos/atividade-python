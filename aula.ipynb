{
 "cells": [
  {
   "cell_type": "code",
   "execution_count": 18,
   "metadata": {},
   "outputs": [
    {
     "name": "stdout",
     "output_type": "stream",
     "text": [
      "A área do retângulo é: 2500.0\n"
     ]
    }
   ],
   "source": [
    "# Exemplo de função dentro de função\n",
    "\n",
    "def calcular_area(largura, comprimento):\n",
    "    'Função pra cálculo de área de um retângulo'\n",
    "    area = largura * comprimento\n",
    "\n",
    "    return area\n",
    "\n",
    "def input_valores():\n",
    "    'Função pra imputar valores'\n",
    "    print('A área do retângulo é:', ar)\n",
    "\n",
    "largura = float(input('Digite o valor da largura:'))\n",
    "comprimento = float(input('Digite o valor do comprimento:'))\n",
    "\n",
    "ar = calcular_area(largura, comprimento)\n",
    "input_valores()"
   ]
  },
  {
   "cell_type": "code",
   "execution_count": 21,
   "metadata": {},
   "outputs": [
    {
     "name": "stdout",
     "output_type": "stream",
     "text": [
      "A área 1256.6370614359173 do círculo é grande\n"
     ]
    }
   ],
   "source": [
    "# Função para calcular área de um círculo e retornar o seguinte:\n",
    "\n",
    "# Area > 50 = Area grande\n",
    "# Area = 50 = Area media\n",
    "# Area < 50 = Area pequena\n",
    "\n",
    "import math\n",
    "\n",
    "def calculo_area(raio):\n",
    "    area = math.pi * (raio**2)\n",
    "\n",
    "    return area\n",
    "\n",
    "def input_circulo():\n",
    "    if ar > 50:\n",
    "        print(f'A área {ar} do círculo é grande')\n",
    "    elif ar == 50:\n",
    "        print(f'A área {ar} do círculo é média')\n",
    "    else:\n",
    "        print(f'A área {ar} do círculo é pequena')\n",
    "\n",
    "\n",
    "raio = float(input('Digite o raio do círculo:'))\n",
    "\n",
    "ar = calculo_area(raio)\n",
    "input_circulo()    \n",
    "            "
   ]
  },
  {
   "cell_type": "code",
   "execution_count": 24,
   "metadata": {},
   "outputs": [
    {
     "name": "stdout",
     "output_type": "stream",
     "text": [
      "O resultado da soma é: 4.0\n",
      "O resultado da subtração é: 0.0\n",
      "O resultado da multiplicação é: 4.0\n",
      "O resultado da divisão é: 1.0\n"
     ]
    }
   ],
   "source": [
    "# Exercício 1 - Crie um algorítmo utilizando função dentro de função em que serão feitas as quatro operações básicas (soma, subtração, divisão e multiplicação)\n",
    "\n",
    "def operacoes(a,b):\n",
    "    soma = a + b\n",
    "    sub = a - b\n",
    "    mult = a * b\n",
    "    div = a / b\n",
    "\n",
    "    return soma, sub, mult, div\n",
    "\n",
    "def input_valores():\n",
    "    print('O resultado da soma é:', soma)\n",
    "    print('O resultado da subtração é:', sub)\n",
    "    print('O resultado da multiplicação é:', mult)\n",
    "    print('O resultado da divisão é:', div)\n",
    "\n",
    "a = float(input(\"Digite o primeiro número:\"))\n",
    "b = float(input(\"Digite o segundo número:\"))\n",
    "\n",
    "soma, sub, mult, div = operacoes(a,b)\n",
    "input_valores()"
   ]
  },
  {
   "cell_type": "code",
   "execution_count": 39,
   "metadata": {},
   "outputs": [
    {
     "name": "stdout",
     "output_type": "stream",
     "text": [
      "Loop encerrado.\n",
      "A média dos valores digitados é: 10.0\n"
     ]
    }
   ],
   "source": [
    "# Exercício 2 - Crie uma calculadora de média solicitando número para o usuário até que ele digite 'fim'. Crie uma função para solicitar a informação para o usuário (números), em seguida, crie outra função para apresentar a média.\n",
    "\n",
    "def calculo_media(lista_valores):\n",
    "    if len(lista_valores) == 0:\n",
    "        return 0\n",
    "    return sum(lista_valores) / len(lista_valores)\n",
    "\n",
    "def input_valores_media():\n",
    "    lista_valores = []\n",
    "    while True:\n",
    "        valor = input('Digite um valor (ou \"fim\" para encerrar):')\n",
    "        if valor.lower() == 'fim':\n",
    "            print('Loop encerrado.')\n",
    "            break\n",
    "        try:\n",
    "            lista_valores.append(float(valor))\n",
    "        except ValueError:\n",
    "            print(\"Entrada inválida. Por favor, digite um número.\")\n",
    "    return lista_valores\n",
    "\n",
    "lista_valores = input_valores_media()\n",
    "\n",
    "media = calculo_media(lista_valores)\n",
    "\n",
    "print(f'A média dos valores digitados é: {media}')\n",
    "\n"
   ]
  }
 ],
 "metadata": {
  "kernelspec": {
   "display_name": "Python 3",
   "language": "python",
   "name": "python3"
  },
  "language_info": {
   "codemirror_mode": {
    "name": "ipython",
    "version": 3
   },
   "file_extension": ".py",
   "mimetype": "text/x-python",
   "name": "python",
   "nbconvert_exporter": "python",
   "pygments_lexer": "ipython3",
   "version": "3.11.7"
  }
 },
 "nbformat": 4,
 "nbformat_minor": 2
}
